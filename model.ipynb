{
 "cells": [
  {
   "cell_type": "code",
   "execution_count": 2,
   "metadata": {
    "colab": {
     "base_uri": "https://localhost:8080/",
     "height": 1000
    },
    "id": "JBKrRoycTw5b",
    "outputId": "dc2b1168-d52e-48c1-b52d-4a64ae91a599"
   },
   "outputs": [
    {
     "name": "stdout",
     "output_type": "stream",
     "text": [
      "5\n"
     ]
    },
    {
     "data": {
      "image/png": "[encoded data removed]",
      "text/plain": [
       "<Figure size 432x288 with 1 Axes>"
      ]
     },
     "metadata": {
      "needs_background": "light"
     },
     "output_type": "display_data"
    },
    {
     "name": "stdout",
     "output_type": "stream",
     "text": [
      "(60000, 28, 28)\n",
      "(10000, 28, 28)\n",
      "Model: \"sequential\"\n",
      "_________________________________________________________________\n",
      "Layer (type)                 Output Shape              Param #   \n",
      "=================================================================\n",
      "conv2d (Conv2D)              (None, 26, 26, 32)        320       \n",
      "_________________________________________________________________\n",
      "conv2d_1 (Conv2D)            (None, 24, 24, 64)        18496     \n",
      "_________________________________________________________________\n",
      "max_pooling2d (MaxPooling2D) (None, 12, 12, 64)        0         \n",
      "_________________________________________________________________\n",
      "dropout (Dropout)            (None, 12, 12, 64)        0         \n",
      "_________________________________________________________________\n",
      "flatten (Flatten)            (None, 9216)              0         \n",
      "_________________________________________________________________\n",
      "dense (Dense)                (None, 128)               1179776   \n",
      "_________________________________________________________________\n",
      "dropout_1 (Dropout)          (None, 128)               0         \n",
      "_________________________________________________________________\n",
      "dense_1 (Dense)              (None, 10)                1290      \n",
      "=================================================================\n",
      "Total params: 1,199,882\n",
      "Trainable params: 1,199,882\n",
      "Non-trainable params: 0\n",
      "_________________________________________________________________\n",
      "(10000, 10)\n",
      "Epoch 1/10\n",
      "469/469 [==============================] - 128s 265ms/step - loss: 0.2426 - accuracy: 0.9261 - val_loss: 0.0511 - val_accuracy: 0.9825\n",
      "Epoch 2/10\n",
      "469/469 [==============================] - 119s 254ms/step - loss: 0.0869 - accuracy: 0.9740 - val_loss: 0.0357 - val_accuracy: 0.9889\n",
      "Epoch 3/10\n",
      "469/469 [==============================] - 112s 240ms/step - loss: 0.0660 - accuracy: 0.9801 - val_loss: 0.0328 - val_accuracy: 0.9893\n",
      "Epoch 4/10\n",
      "469/469 [==============================] - 114s 243ms/step - loss: 0.0525 - accuracy: 0.9837 - val_loss: 0.0305 - val_accuracy: 0.9897\n",
      "Epoch 5/10\n",
      "469/469 [==============================] - 112s 240ms/step - loss: 0.0454 - accuracy: 0.9857 - val_loss: 0.0293 - val_accuracy: 0.9913\n",
      "Epoch 6/10\n",
      "469/469 [==============================] - 115s 245ms/step - loss: 0.0394 - accuracy: 0.9875 - val_loss: 0.0287 - val_accuracy: 0.9904\n",
      "Epoch 7/10\n",
      "469/469 [==============================] - 114s 242ms/step - loss: 0.0344 - accuracy: 0.9887 - val_loss: 0.0277 - val_accuracy: 0.9914\n",
      "Epoch 8/10\n",
      "469/469 [==============================] - 116s 248ms/step - loss: 0.0314 - accuracy: 0.9898 - val_loss: 0.0298 - val_accuracy: 0.9917\n",
      "Epoch 9/10\n",
      "469/469 [==============================] - 117s 250ms/step - loss: 0.0287 - accuracy: 0.9911 - val_loss: 0.0284 - val_accuracy: 0.9913\n",
      "Epoch 10/10\n",
      "469/469 [==============================] - 119s 254ms/step - loss: 0.0255 - accuracy: 0.9916 - val_loss: 0.0288 - val_accuracy: 0.9915\n",
      "Test loss: 0.028807101771235466\n",
      "Test accuracy: 0.9915000200271606\n"
     ]
    }
   ],
   "source": [
    "from tensorflow.keras.datasets import mnist\n",
    "import numpy as np\n",
    "\n",
    "(x_train, y_train), (x_test, y_test) = mnist.load_data()\n",
    "import matplotlib.pyplot as plt\n",
    "\n",
    "image_index = 35\n",
    "print(y_train[image_index])\n",
    "plt.imshow(x_train[image_index], cmap='Greys')\n",
    "plt.show()\n",
    "\n",
    "img_rows, img_cols = 28, 28\n",
    "\n",
    "x_train = x_train.reshape(x_train.shape[0], img_rows, img_cols, 1)\n",
    "x_test = x_test.reshape(x_test.shape[0], img_rows, img_cols, 1)\n",
    "\n",
    "x_train = x_train.astype(float)\n",
    "x_test = x_test.astype(float)\n",
    "\n",
    "x_train /= 255\n",
    "x_test /= 255\n",
    "from tensorflow.keras.utils import to_categorical\n",
    "num_classes = 10\n",
    "\n",
    "y_train = to_categorical(y_train, num_classes)\n",
    "y_test = to_categorical(y_test, num_classes)\n",
    "from tensorflow.keras.models import Sequential\n",
    "from tensorflow.keras.layers import Dense, Dropout, Flatten, Conv2D, MaxPooling2D\n",
    "\n",
    "model = Sequential()\n",
    "model.add(Conv2D(32, kernel_size=(3, 3),activation='relu',input_shape=(img_rows, img_cols, 1)))\n",
    "model.add(Conv2D(64, (3, 3), activation='relu'))\n",
    "model.add(MaxPooling2D(pool_size=(2, 2)))\n",
    "model.add(Dropout(0.25))\n",
    "model.add(Flatten())\n",
    "model.add(Dense(128, activation='relu'))\n",
    "model.add(Dropout(0.5))\n",
    "model.add(Dense(num_classes, activation='softmax'))\n",
    "model.compile(loss='categorical_crossentropy',\n",
    "      optimizer='adam',\n",
    "      metrics=['accuracy'])\n",
    "batch_size = 128\n",
    "epochs = 10\n",
    "model.summary()\n",
    "model.fit(x_train, y_train,\n",
    "          batch_size=batch_size,\n",
    "          epochs=epochs,\n",
    "          verbose=1,\n",
    "          validation_data=(x_test, y_test))\n",
    "score = model.evaluate(x_test, y_test, verbose=0)\n",
    "print('Test loss:', score[0])\n",
    "print('Test accuracy:', score[1])\n",
    "model.save(\"test_model.h5\")\n",
    "\n"
   ]
  },
  {
   "cell_type": "code",
   "execution_count": 5,
   "metadata": {
    "colab": {
     "base_uri": "https://localhost:8080/",
     "height": 353
    },
    "id": "eNZZa7PpltHn",
    "outputId": "c6c54bd4-4076-47c4-f5d7-b3adf4d4c449"
   },
   "outputs": [
    {
     "data": {
      "image/png": "[encoded data removed]",
      "text/plain": [
       "<Figure size 720x720 with 4 Axes>"
      ]
     },
     "metadata": {
      "needs_background": "light"
     },
     "output_type": "display_data"
    }
   ],
   "source": [
    "import imageio\n",
    "import numpy as np\n",
    "from matplotlib import pyplot as plt\n",
    "img_rows, img_cols = 28, 28\n",
    "\n",
    "from tensorflow.keras.models import load_model\n",
    "model = load_model(\"test_model.h5\")\n",
    "\n",
    "img_list = [11, 21, 26, 35]\n",
    "plt.rcParams[\"figure.figsize\"]=(10,10)\n",
    "\n",
    "for i,x in enumerate(img_list):\n",
    "    gray = imageio.imread(\"testSample/img_{}.jpg\".format(x))\n",
    "    # gray = np.dot(im[...,:3], [0.299, 0.587, 0.114])\n",
    "    plt.subplot(2,2,i+1)\n",
    "    plt.imshow(gray, cmap = plt.get_cmap('gray'))\n",
    "    \n",
    "    gray = gray.reshape(1, img_rows, img_cols, 1)\n",
    "    # normalize image\n",
    "    gray=gray.astype(float)\n",
    "    gray /= 255\n",
    "    # predict digit\n",
    "    prediction = model.predict(gray)\n",
    "    plt.xlabel(\"prediction: {}\".format(prediction.argmax()))\n",
    "\n",
    "plt.show()\n",
    "\n"
   ]
  }
 ],
 "metadata": {
  "accelerator": "GPU",
  "colab": {
   "name": "Untitled1.ipynb",
   "provenance": []
  },
  "kernelspec": {
   "display_name": "Python 3",
   "language": "python",
   "name": "python3"
  },
  "language_info": {
   "codemirror_mode": {
    "name": "ipython",
    "version": 3
   },
   "file_extension": ".py",
   "mimetype": "text/x-python",
   "name": "python",
   "nbconvert_exporter": "python",
   "pygments_lexer": "ipython3",
   "version": "3.7.4"
  }
 },
 "nbformat": 4,
 "nbformat_minor": 1
}
